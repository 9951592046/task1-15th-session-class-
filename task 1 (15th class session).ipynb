{
 "cells": [
  {
   "cell_type": "code",
   "execution_count": 1,
   "id": "9e559149",
   "metadata": {},
   "outputs": [],
   "source": [
    "s = \"This is my first python programming class and iam learning pythong string and its function\""
   ]
  },
  {
   "cell_type": "code",
   "execution_count": 2,
   "id": "1c0cba9f",
   "metadata": {},
   "outputs": [
    {
     "data": {
      "text/plain": [
       "'This is my first python programming class and iam learning pythong string and its function'"
      ]
     },
     "execution_count": 2,
     "metadata": {},
     "output_type": "execute_result"
    }
   ],
   "source": [
    "s"
   ]
  },
  {
   "cell_type": "code",
   "execution_count": 3,
   "id": "38d7ab1f",
   "metadata": {},
   "outputs": [
    {
     "data": {
      "text/plain": [
       "'h   r tnrrmglsni ai tnsi dtfco'"
      ]
     },
     "execution_count": 3,
     "metadata": {},
     "output_type": "execute_result"
    }
   ],
   "source": [
    "s[1:300:3]"
   ]
  },
  {
   "cell_type": "code",
   "execution_count": 4,
   "id": "fa00cb54",
   "metadata": {},
   "outputs": [
    {
     "data": {
      "text/plain": [
       "'noitcnuf sti dna gnirts gnohtyp gninrael mai dna ssalc gnimmargorp nohtyp tsrif ym si sihT'"
      ]
     },
     "execution_count": 4,
     "metadata": {},
     "output_type": "execute_result"
    }
   ],
   "source": [
    "s[::-1]"
   ]
  },
  {
   "cell_type": "code",
   "execution_count": 5,
   "id": "3c1da416",
   "metadata": {},
   "outputs": [
    {
     "data": {
      "text/plain": [
       "'THIS IS MY FIRST PYTHON PROGRAMMING CLASS AND IAM LEARNING PYTHONG STRING AND ITS FUNCTION'"
      ]
     },
     "execution_count": 5,
     "metadata": {},
     "output_type": "execute_result"
    }
   ],
   "source": [
    "s.upper()"
   ]
  },
  {
   "cell_type": "code",
   "execution_count": 6,
   "id": "ad5fc918",
   "metadata": {},
   "outputs": [
    {
     "data": {
      "text/plain": [
       "['This',\n",
       " 'is',\n",
       " 'my',\n",
       " 'first',\n",
       " 'python',\n",
       " 'programming',\n",
       " 'class',\n",
       " 'and',\n",
       " 'iam',\n",
       " 'learning',\n",
       " 'pythong',\n",
       " 'string',\n",
       " 'and',\n",
       " 'its',\n",
       " 'function']"
      ]
     },
     "execution_count": 6,
     "metadata": {},
     "output_type": "execute_result"
    }
   ],
   "source": [
    "s.split()"
   ]
  },
  {
   "cell_type": "code",
   "execution_count": 7,
   "id": "ac665c75",
   "metadata": {},
   "outputs": [
    {
     "data": {
      "text/plain": [
       "'this is my first python programming class and iam learning pythong string and its function'"
      ]
     },
     "execution_count": 7,
     "metadata": {},
     "output_type": "execute_result"
    }
   ],
   "source": [
    "s.lower()"
   ]
  },
  {
   "cell_type": "code",
   "execution_count": 8,
   "id": "b240f94e",
   "metadata": {},
   "outputs": [
    {
     "data": {
      "text/plain": [
       "'This is my first python programming class and iam learning pythong string and its function'"
      ]
     },
     "execution_count": 8,
     "metadata": {},
     "output_type": "execute_result"
    }
   ],
   "source": [
    "s.capitalize()"
   ]
  },
  {
   "cell_type": "markdown",
   "id": "abe7f28a",
   "metadata": {},
   "source": [
    "isalnum() : return true if the string is either alphabetic or numeric ,otherwise false\n",
    "isalpha(): return true if the string is alphabetic otherwise false"
   ]
  },
  {
   "cell_type": "code",
   "execution_count": 9,
   "id": "6619c215",
   "metadata": {},
   "outputs": [],
   "source": [
    "d=\"ineuron\""
   ]
  },
  {
   "cell_type": "code",
   "execution_count": 10,
   "id": "b94ee05e",
   "metadata": {},
   "outputs": [
    {
     "data": {
      "text/plain": [
       "'ineuron'"
      ]
     },
     "execution_count": 10,
     "metadata": {},
     "output_type": "execute_result"
    }
   ],
   "source": [
    "d"
   ]
  },
  {
   "cell_type": "code",
   "execution_count": 11,
   "id": "feab868d",
   "metadata": {},
   "outputs": [
    {
     "data": {
      "text/plain": [
       "True"
      ]
     },
     "execution_count": 11,
     "metadata": {},
     "output_type": "execute_result"
    }
   ],
   "source": [
    "d.isalnum()"
   ]
  },
  {
   "cell_type": "code",
   "execution_count": 12,
   "id": "a4f17917",
   "metadata": {},
   "outputs": [
    {
     "data": {
      "text/plain": [
       "True"
      ]
     },
     "execution_count": 12,
     "metadata": {},
     "output_type": "execute_result"
    }
   ],
   "source": [
    "d.isalpha()"
   ]
  },
  {
   "cell_type": "code",
   "execution_count": 13,
   "id": "74807451",
   "metadata": {},
   "outputs": [],
   "source": [
    "e= \"       ineuron      \""
   ]
  },
  {
   "cell_type": "code",
   "execution_count": 14,
   "id": "c9e150a3",
   "metadata": {},
   "outputs": [
    {
     "data": {
      "text/plain": [
       "'ineuron'"
      ]
     },
     "execution_count": 14,
     "metadata": {},
     "output_type": "execute_result"
    }
   ],
   "source": [
    "e.strip()"
   ]
  },
  {
   "cell_type": "code",
   "execution_count": 15,
   "id": "f87a864c",
   "metadata": {},
   "outputs": [
    {
     "data": {
      "text/plain": [
       "'ineuron      '"
      ]
     },
     "execution_count": 15,
     "metadata": {},
     "output_type": "execute_result"
    }
   ],
   "source": [
    "e.lstrip()"
   ]
  },
  {
   "cell_type": "code",
   "execution_count": 16,
   "id": "2f131ba1",
   "metadata": {},
   "outputs": [
    {
     "data": {
      "text/plain": [
       "'       ineuron'"
      ]
     },
     "execution_count": 16,
     "metadata": {},
     "output_type": "execute_result"
    }
   ],
   "source": [
    "e.rstrip()"
   ]
  },
  {
   "cell_type": "code",
   "execution_count": 21,
   "id": "66577db8",
   "metadata": {},
   "outputs": [],
   "source": [
    "a= 'datascience'"
   ]
  },
  {
   "cell_type": "code",
   "execution_count": 22,
   "id": "c83eae88",
   "metadata": {},
   "outputs": [
    {
     "data": {
      "text/plain": [
       "'datascience'"
      ]
     },
     "execution_count": 22,
     "metadata": {},
     "output_type": "execute_result"
    }
   ],
   "source": [
    "a"
   ]
  },
  {
   "cell_type": "code",
   "execution_count": 26,
   "id": "46475bde",
   "metadata": {},
   "outputs": [
    {
     "data": {
      "text/plain": [
       "'ineuron'"
      ]
     },
     "execution_count": 26,
     "metadata": {},
     "output_type": "execute_result"
    }
   ],
   "source": [
    "a.replace(\"datascience\" , \"ineuron\" )"
   ]
  },
  {
   "cell_type": "code",
   "execution_count": 27,
   "id": "21084e51",
   "metadata": {},
   "outputs": [
    {
     "data": {
      "text/plain": [
       "'dahascience'"
      ]
     },
     "execution_count": 27,
     "metadata": {},
     "output_type": "execute_result"
    }
   ],
   "source": [
    "a.replace(\"t\" , \"h\")"
   ]
  },
  {
   "cell_type": "code",
   "execution_count": 28,
   "id": "cb31e1c2",
   "metadata": {},
   "outputs": [],
   "source": [
    "h= \"ineuron\""
   ]
  },
  {
   "cell_type": "code",
   "execution_count": 30,
   "id": "8356a0ba",
   "metadata": {},
   "outputs": [
    {
     "data": {
      "text/plain": [
       "'@ineuron@@'"
      ]
     },
     "execution_count": 30,
     "metadata": {},
     "output_type": "execute_result"
    }
   ],
   "source": [
    "h.center(10, \"@\")"
   ]
  },
  {
   "cell_type": "markdown",
   "id": "f67ab669",
   "metadata": {},
   "source": [
    "cnter() : return the string by adding the given character within the word limit"
   ]
  },
  {
   "cell_type": "markdown",
   "id": "9cff7cf2",
   "metadata": {},
   "source": [
    "compiler converts the whole program into machine language at once a time and interpreter coverts only one statement within the program into machine language"
   ]
  },
  {
   "cell_type": "markdown",
   "id": "f590d31f",
   "metadata": {},
   "source": [
    "python is a interpreter language because program is converted into bytecode  where computer screen understand the language "
   ]
  },
  {
   "cell_type": "markdown",
   "id": "cd80ebed",
   "metadata": {},
   "source": [
    "usecase of python : ai applications \n",
    "Gmail :Auto response like by typing the message we will get some suggestions that how to write \n",
    "Google map: it shows the best optimized route and time we reach our destination "
   ]
  }
 ],
 "metadata": {
  "kernelspec": {
   "display_name": "Python 3 (ipykernel)",
   "language": "python",
   "name": "python3"
  },
  "language_info": {
   "codemirror_mode": {
    "name": "ipython",
    "version": 3
   },
   "file_extension": ".py",
   "mimetype": "text/x-python",
   "name": "python",
   "nbconvert_exporter": "python",
   "pygments_lexer": "ipython3",
   "version": "3.9.12"
  }
 },
 "nbformat": 4,
 "nbformat_minor": 5
}
